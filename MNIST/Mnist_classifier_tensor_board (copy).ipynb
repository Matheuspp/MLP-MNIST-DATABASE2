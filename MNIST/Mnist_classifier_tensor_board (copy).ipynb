{
 "cells": [
  {
   "cell_type": "markdown",
   "metadata": {},
   "source": [
    "# Classificação de digitos utilizando o framework tensorflow\n",
    "[dataset dowload](https://www.kaggle.com/oddrationale/mnist-in-csv)"
   ]
  },
  {
   "cell_type": "code",
   "execution_count": 1,
   "metadata": {},
   "outputs": [],
   "source": [
    "# importando bibliotecas necessárias\n",
    "import numpy as np\n",
    "import matplotlib.pyplot as plt\n",
    "import tensorflow as tf\n",
    "import pandas as pd\n",
    "from sklearn.preprocessing import Normalizer # função para normalizar as imagens\n",
    "import os\n"
   ]
  },
  {
   "cell_type": "code",
   "execution_count": 2,
   "metadata": {},
   "outputs": [],
   "source": [
    "# lendo arquivo utilizando pandas \n",
    "data_train = pd.read_csv('/home/matthew/Área de Trabalho/deep_learning/datasets_locais/mnist/train/mnist_train.csv')"
   ]
  },
  {
   "cell_type": "code",
   "execution_count": 3,
   "metadata": {},
   "outputs": [],
   "source": [
    "data_test = pd.read_csv('/home/matthew/Área de Trabalho/deep_learning/datasets_locais/mnist/test/mnist_test.csv')"
   ]
  },
  {
   "cell_type": "code",
   "execution_count": 4,
   "metadata": {},
   "outputs": [
    {
     "data": {
      "text/html": [
       "<div>\n",
       "<style scoped>\n",
       "    .dataframe tbody tr th:only-of-type {\n",
       "        vertical-align: middle;\n",
       "    }\n",
       "\n",
       "    .dataframe tbody tr th {\n",
       "        vertical-align: top;\n",
       "    }\n",
       "\n",
       "    .dataframe thead th {\n",
       "        text-align: right;\n",
       "    }\n",
       "</style>\n",
       "<table border=\"1\" class=\"dataframe\">\n",
       "  <thead>\n",
       "    <tr style=\"text-align: right;\">\n",
       "      <th></th>\n",
       "      <th>label</th>\n",
       "      <th>1x1</th>\n",
       "      <th>1x2</th>\n",
       "      <th>1x3</th>\n",
       "      <th>1x4</th>\n",
       "      <th>1x5</th>\n",
       "      <th>1x6</th>\n",
       "      <th>1x7</th>\n",
       "      <th>1x8</th>\n",
       "      <th>1x9</th>\n",
       "      <th>...</th>\n",
       "      <th>28x19</th>\n",
       "      <th>28x20</th>\n",
       "      <th>28x21</th>\n",
       "      <th>28x22</th>\n",
       "      <th>28x23</th>\n",
       "      <th>28x24</th>\n",
       "      <th>28x25</th>\n",
       "      <th>28x26</th>\n",
       "      <th>28x27</th>\n",
       "      <th>28x28</th>\n",
       "    </tr>\n",
       "  </thead>\n",
       "  <tbody>\n",
       "    <tr>\n",
       "      <th>0</th>\n",
       "      <td>7</td>\n",
       "      <td>0</td>\n",
       "      <td>0</td>\n",
       "      <td>0</td>\n",
       "      <td>0</td>\n",
       "      <td>0</td>\n",
       "      <td>0</td>\n",
       "      <td>0</td>\n",
       "      <td>0</td>\n",
       "      <td>0</td>\n",
       "      <td>...</td>\n",
       "      <td>0</td>\n",
       "      <td>0</td>\n",
       "      <td>0</td>\n",
       "      <td>0</td>\n",
       "      <td>0</td>\n",
       "      <td>0</td>\n",
       "      <td>0</td>\n",
       "      <td>0</td>\n",
       "      <td>0</td>\n",
       "      <td>0</td>\n",
       "    </tr>\n",
       "    <tr>\n",
       "      <th>1</th>\n",
       "      <td>2</td>\n",
       "      <td>0</td>\n",
       "      <td>0</td>\n",
       "      <td>0</td>\n",
       "      <td>0</td>\n",
       "      <td>0</td>\n",
       "      <td>0</td>\n",
       "      <td>0</td>\n",
       "      <td>0</td>\n",
       "      <td>0</td>\n",
       "      <td>...</td>\n",
       "      <td>0</td>\n",
       "      <td>0</td>\n",
       "      <td>0</td>\n",
       "      <td>0</td>\n",
       "      <td>0</td>\n",
       "      <td>0</td>\n",
       "      <td>0</td>\n",
       "      <td>0</td>\n",
       "      <td>0</td>\n",
       "      <td>0</td>\n",
       "    </tr>\n",
       "    <tr>\n",
       "      <th>2</th>\n",
       "      <td>1</td>\n",
       "      <td>0</td>\n",
       "      <td>0</td>\n",
       "      <td>0</td>\n",
       "      <td>0</td>\n",
       "      <td>0</td>\n",
       "      <td>0</td>\n",
       "      <td>0</td>\n",
       "      <td>0</td>\n",
       "      <td>0</td>\n",
       "      <td>...</td>\n",
       "      <td>0</td>\n",
       "      <td>0</td>\n",
       "      <td>0</td>\n",
       "      <td>0</td>\n",
       "      <td>0</td>\n",
       "      <td>0</td>\n",
       "      <td>0</td>\n",
       "      <td>0</td>\n",
       "      <td>0</td>\n",
       "      <td>0</td>\n",
       "    </tr>\n",
       "    <tr>\n",
       "      <th>3</th>\n",
       "      <td>0</td>\n",
       "      <td>0</td>\n",
       "      <td>0</td>\n",
       "      <td>0</td>\n",
       "      <td>0</td>\n",
       "      <td>0</td>\n",
       "      <td>0</td>\n",
       "      <td>0</td>\n",
       "      <td>0</td>\n",
       "      <td>0</td>\n",
       "      <td>...</td>\n",
       "      <td>0</td>\n",
       "      <td>0</td>\n",
       "      <td>0</td>\n",
       "      <td>0</td>\n",
       "      <td>0</td>\n",
       "      <td>0</td>\n",
       "      <td>0</td>\n",
       "      <td>0</td>\n",
       "      <td>0</td>\n",
       "      <td>0</td>\n",
       "    </tr>\n",
       "    <tr>\n",
       "      <th>4</th>\n",
       "      <td>4</td>\n",
       "      <td>0</td>\n",
       "      <td>0</td>\n",
       "      <td>0</td>\n",
       "      <td>0</td>\n",
       "      <td>0</td>\n",
       "      <td>0</td>\n",
       "      <td>0</td>\n",
       "      <td>0</td>\n",
       "      <td>0</td>\n",
       "      <td>...</td>\n",
       "      <td>0</td>\n",
       "      <td>0</td>\n",
       "      <td>0</td>\n",
       "      <td>0</td>\n",
       "      <td>0</td>\n",
       "      <td>0</td>\n",
       "      <td>0</td>\n",
       "      <td>0</td>\n",
       "      <td>0</td>\n",
       "      <td>0</td>\n",
       "    </tr>\n",
       "  </tbody>\n",
       "</table>\n",
       "<p>5 rows × 785 columns</p>\n",
       "</div>"
      ],
      "text/plain": [
       "   label  1x1  1x2  1x3  1x4  1x5  1x6  1x7  1x8  1x9  ...    28x19  28x20  \\\n",
       "0      7    0    0    0    0    0    0    0    0    0  ...        0      0   \n",
       "1      2    0    0    0    0    0    0    0    0    0  ...        0      0   \n",
       "2      1    0    0    0    0    0    0    0    0    0  ...        0      0   \n",
       "3      0    0    0    0    0    0    0    0    0    0  ...        0      0   \n",
       "4      4    0    0    0    0    0    0    0    0    0  ...        0      0   \n",
       "\n",
       "   28x21  28x22  28x23  28x24  28x25  28x26  28x27  28x28  \n",
       "0      0      0      0      0      0      0      0      0  \n",
       "1      0      0      0      0      0      0      0      0  \n",
       "2      0      0      0      0      0      0      0      0  \n",
       "3      0      0      0      0      0      0      0      0  \n",
       "4      0      0      0      0      0      0      0      0  \n",
       "\n",
       "[5 rows x 785 columns]"
      ]
     },
     "execution_count": 4,
     "metadata": {},
     "output_type": "execute_result"
    }
   ],
   "source": [
    "# visualizando amostras\n",
    "data_test.head()"
   ]
  },
  {
   "cell_type": "code",
   "execution_count": 5,
   "metadata": {},
   "outputs": [],
   "source": [
    "# retirando os rotulos para organizar os arrays \n",
    "train_x = data_train.drop('label', axis=1).values \n",
    "test_x  = data_test.drop('label', axis=1).values\n",
    "\n",
    "# separando os rotulos\n",
    "train_y = data_train['label'].values\n",
    "test_y  = data_test['label'].values"
   ]
  },
  {
   "cell_type": "code",
   "execution_count": 6,
   "metadata": {},
   "outputs": [
    {
     "data": {
      "text/plain": [
       "(60000, 784)"
      ]
     },
     "execution_count": 6,
     "metadata": {},
     "output_type": "execute_result"
    }
   ],
   "source": [
    "train_x.shape # verificando dimenções"
   ]
  },
  {
   "cell_type": "code",
   "execution_count": 7,
   "metadata": {},
   "outputs": [
    {
     "data": {
      "text/plain": [
       "(60000,)"
      ]
     },
     "execution_count": 7,
     "metadata": {},
     "output_type": "execute_result"
    }
   ],
   "source": [
    "train_y.shape # os labels devem ser convertidos para one_hot_encoding"
   ]
  },
  {
   "cell_type": "markdown",
   "metadata": {},
   "source": [
    "## One-Hot Encoding\n",
    "![One-hot Encoding](https://cdn-images-1.medium.com/max/1200/1*3hdYEX5eixaV4F3wT5OmBg.png)\n",
    "fonte: [https://medium.com/data-design/](https://medium.com/data-design/visiting-categorical-features-and-encoding-in-decision-trees-53400fa65931)\n",
    "\n",
    "One-hot Encoding é um processo de conversão de classes em probabilidades.\n",
    "Basicamente pega uma classe e atribui o valor 1, enquanto as outras recebem 0."
   ]
  },
  {
   "cell_type": "code",
   "execution_count": 8,
   "metadata": {},
   "outputs": [],
   "source": [
    "# funcãp para converter classes em probabilidades \n",
    "def one_hot(labels, num_classes):\n",
    "    num_labels = labels.shape[0]\n",
    "    indexoffset = np.arange(num_labels)*num_classes\n",
    "    labels_one_hot = np.zeros([num_labels, num_classes])\n",
    "    labels_one_hot.flat[indexoffset + labels.ravel()] = 1\n",
    "    return labels_one_hot"
   ]
  },
  {
   "cell_type": "code",
   "execution_count": 9,
   "metadata": {},
   "outputs": [],
   "source": [
    "# será retirado do conjunto de treino 20% das imagens para validação durante o treino\n",
    "def validation_set(x, y, size=0.2):\n",
    "    data_points = len(x)\n",
    "    indices = list(range(data_points))\n",
    "    np.random.shuffle(indices)\n",
    "    validset_x = []\n",
    "    validset_y = []\n",
    "    split = int(np.floor(size*data_points))\n",
    "    for i in indices[0:split]:\n",
    "        validset_x.append(x[i])\n",
    "        validset_y.append(y[i])\n",
    "    \n",
    "    return ( np.array(validset_x), np.array(validset_y) ), (x[split:], y[split:])\n",
    "        "
   ]
  },
  {
   "cell_type": "code",
   "execution_count": 10,
   "metadata": {},
   "outputs": [],
   "source": [
    "# para evitar problemas de memoria RAM, as imagens serão amostradas em lotes de tamanho size=\n",
    "def batch_loader(data_x, data_y, size):\n",
    "    inicio, fim = 0, size\n",
    "    tamanho = len(data_x)//size\n",
    "    for i in range(tamanho):\n",
    "        yield data_x[inicio:fim], data_y[inicio:fim]\n",
    "        if i != (tamanho - 1):\n",
    "            inicio += size\n",
    "            fim += size\n",
    "        else:\n",
    "            inicio += size\n",
    "            fim += len(data_x)%size\n",
    "            if (len(data_x)%size) != 0:\n",
    "                yield data_x[inicio:fim], data_y[inicio:fim]\n",
    "    "
   ]
  },
  {
   "cell_type": "code",
   "execution_count": 11,
   "metadata": {},
   "outputs": [],
   "source": [
    "# as imagens serão normalizadas, e o valor dos pixels ajustados entre 0 e 1\n",
    "# formula valor_pixel / 255\n",
    "def pre_proc(dataset):\n",
    "    transformer = Normalizer(norm='max').fit(dataset)\n",
    "    return transformer.transform(dataset)"
   ]
  },
  {
   "cell_type": "code",
   "execution_count": 12,
   "metadata": {},
   "outputs": [
    {
     "data": {
      "text/plain": [
       "255"
      ]
     },
     "execution_count": 12,
     "metadata": {},
     "output_type": "execute_result"
    }
   ],
   "source": [
    "np.max(train_x) # as imagens precisam ser normalizadas"
   ]
  },
  {
   "cell_type": "code",
   "execution_count": 13,
   "metadata": {},
   "outputs": [],
   "source": [
    "test_x = pre_proc(test_x)\n",
    "train_x = pre_proc(train_x)"
   ]
  },
  {
   "cell_type": "code",
   "execution_count": 14,
   "metadata": {},
   "outputs": [],
   "source": [
    "# one_hot_encoding\n",
    "train_y = one_hot(train_y, 10)\n",
    "test_y = one_hot(test_y, 10)"
   ]
  },
  {
   "cell_type": "code",
   "execution_count": 15,
   "metadata": {},
   "outputs": [
    {
     "data": {
      "text/plain": [
       "(10000, 10)"
      ]
     },
     "execution_count": 15,
     "metadata": {},
     "output_type": "execute_result"
    }
   ],
   "source": [
    "test_y.shape # converção bem sucedida!"
   ]
  },
  {
   "cell_type": "code",
   "execution_count": 16,
   "metadata": {},
   "outputs": [],
   "source": [
    "(val_x, val_y), (train_x, train_y) = validation_set(train_x, train_y) # cojunto de validação"
   ]
  },
  {
   "cell_type": "code",
   "execution_count": 17,
   "metadata": {},
   "outputs": [
    {
     "data": {
      "text/plain": [
       "1.0"
      ]
     },
     "execution_count": 17,
     "metadata": {},
     "output_type": "execute_result"
    }
   ],
   "source": [
    "np.max(val_x)"
   ]
  },
  {
   "cell_type": "markdown",
   "metadata": {},
   "source": [
    "## Definindo a arquitetura da rede"
   ]
  },
  {
   "cell_type": "code",
   "execution_count": 18,
   "metadata": {},
   "outputs": [],
   "source": [
    "tf.set_random_seed(1234) # definindo semente aleatória"
   ]
  },
  {
   "cell_type": "code",
   "execution_count": 19,
   "metadata": {},
   "outputs": [],
   "source": [
    "input_units = 784 # número de unidades de entrada\n",
    "hidden_units = 500 # unidades ocultas\n",
    "output_units = 10 # saida"
   ]
  },
  {
   "cell_type": "code",
   "execution_count": 20,
   "metadata": {},
   "outputs": [],
   "source": [
    "tf.reset_default_graph()\n",
    "with tf.variable_scope('Inputs'): # criando um escopo \n",
    "    x = tf.placeholder(tf.float32, [None, input_units]) # placeholder para ps dados de entrada\n",
    "with tf.variable_scope('Labels'):\n",
    "    y = tf.placeholder(tf.float32, [None, output_units]) # placeholder para os rotulos"
   ]
  },
  {
   "cell_type": "code",
   "execution_count": 21,
   "metadata": {},
   "outputs": [],
   "source": [
    "# criando parâmetros \n",
    "weights = {\n",
    "    'hidden':tf.Variable(tf.random_normal((input_units, hidden_units )), tf.float32, name='W1'),\n",
    "    'output':tf.Variable(tf.random_normal((hidden_units, output_units)), tf.float32, name='Wout')\n",
    "}\n",
    "biases = {\n",
    "    'hidden':tf.Variable(tf.random_normal([hidden_units]), tf.float32, name='B1'),\n",
    "    'output':tf.Variable(tf.random_normal([output_units]), tf.float32, name='Bout')\n",
    "}"
   ]
  },
  {
   "cell_type": "code",
   "execution_count": 22,
   "metadata": {},
   "outputs": [],
   "source": [
    "with tf.variable_scope('MPL'): # escopo\n",
    "    fc1 = tf.add(tf.matmul(x, weights['hidden']), biases['hidden'])# primeira camada totalmente conectada\n",
    "    fc1 = tf.nn.relu(fc1) # aplicando a função relu\n",
    "    logits = tf.add(tf.matmul(fc1, weights['output']), biases['output']) # obtendo logits\n",
    "    prediction = tf.nn.softmax(logits)# obetendo predições"
   ]
  },
  {
   "cell_type": "code",
   "execution_count": 23,
   "metadata": {},
   "outputs": [],
   "source": [
    "loss = tf.reduce_mean(tf.nn.softmax_cross_entropy_with_logits_v2(logits=logits, labels=y))# funcão de custo\n",
    "optim = tf.train.GradientDescentOptimizer(learning_rate=0.01) # otimizador\n",
    "grad_and_vars = optim.compute_gradients(loss) # armazenando gradientes\n",
    "optimizer = optim.minimize(loss)\n",
    "init = tf.global_variables_initializer() # inicializador de variaveis\n",
    "\n",
    "# definindo calculo de acuracia \n",
    "pred = tf.equal(tf.argmax(prediction, 1), tf.argmax(y, 1)) \n",
    "accuracy = tf.reduce_mean(tf.cast(pred, tf.float32))\n"
   ]
  },
  {
   "cell_type": "code",
   "execution_count": 24,
   "metadata": {},
   "outputs": [],
   "source": [
    "# tensorboard\n",
    "# placeholders para loss e acurácia\n",
    "with tf.name_scope('performance'):\n",
    "    tf_loss_ph = tf.placeholder(tf.float32, shape=None, name='loss_summary')\n",
    "    tf_loss_summary = tf.summary.scalar('loss', tf_loss_ph)\n",
    "    \n",
    "    tf_accuracy_ph = tf.placeholder(tf.float32, shape=None, name='accuracy_summary')\n",
    "    tf_accuracy_summary = tf.summary.scalar('accuracy', tf_accuracy_ph)\n",
    "    \n",
    "# calculando a norma L2 dos gradientes\n",
    "for g, v in grad_and_vars:\n",
    "        with tf.name_scope('gradientes'):\n",
    "            tf_last_grad_norm = tf.sqrt(tf.reduce_mean(g**2))\n",
    "            tf_grad_norm_summary = tf.summary.scalar('grad_norm', tf_last_grad_norm)\n",
    "            break\n",
    "performance_summaries = tf.summary.merge([tf_loss_summary, tf_accuracy_summary])            \n"
   ]
  },
  {
   "cell_type": "code",
   "execution_count": 25,
   "metadata": {},
   "outputs": [],
   "source": [
    "epochs = 40 # número de epocas\n",
    "batch_size = 32\n",
    "\n",
    "# salvando losses\n",
    "valid_losses = []\n",
    "train_losses = []\n",
    "saver = tf.train.Saver()\n",
    "save_path = '/home/matthew/anaconda3/envs/skynet/tensorflow/digits_classifier/test3/'\n",
    "min_val_loss = np.inf"
   ]
  },
  {
   "cell_type": "code",
   "execution_count": 26,
   "metadata": {},
   "outputs": [
    {
     "name": "stdout",
     "output_type": "stream",
     "text": [
      "epoch: 1 train_loss: 14.25704 valid_loss: 6.82600\n",
      "saving...\n",
      "epoch: 2 train_loss: 5.65415 valid_loss: 4.78721\n",
      "saving...\n",
      "epoch: 3 train_loss: 4.11866 valid_loss: 3.66461\n",
      "saving...\n",
      "epoch: 4 train_loss: 3.23055 valid_loss: 2.95870\n",
      "saving...\n",
      "epoch: 5 train_loss: 2.65289 valid_loss: 2.48228\n",
      "saving...\n",
      "epoch: 6 train_loss: 2.23523 valid_loss: 2.12088\n",
      "saving...\n",
      "epoch: 7 train_loss: 1.90872 valid_loss: 1.86517\n",
      "saving...\n",
      "epoch: 8 train_loss: 1.66307 valid_loss: 1.71061\n",
      "saving...\n",
      "epoch: 9 train_loss: 1.45671 valid_loss: 1.59073\n",
      "saving...\n",
      "epoch: 10 train_loss: 1.28141 valid_loss: 1.44642\n",
      "saving...\n",
      "epoch: 11 train_loss: 1.13772 valid_loss: 1.31583\n",
      "saving...\n",
      "epoch: 12 train_loss: 1.01885 valid_loss: 1.19463\n",
      "saving...\n",
      "epoch: 13 train_loss: 0.91451 valid_loss: 1.16308\n",
      "saving...\n",
      "epoch: 14 train_loss: 0.83043 valid_loss: 1.08504\n",
      "saving...\n",
      "epoch: 15 train_loss: 0.75103 valid_loss: 1.01765\n",
      "saving...\n",
      "epoch: 16 train_loss: 0.67394 valid_loss: 0.99254\n",
      "saving...\n",
      "epoch: 17 train_loss: 0.61689 valid_loss: 0.93989\n",
      "saving...\n",
      "epoch: 18 train_loss: 0.55907 valid_loss: 0.91997\n",
      "saving...\n",
      "epoch: 19 train_loss: 0.50726 valid_loss: 0.89023\n",
      "saving...\n",
      "epoch: 20 train_loss: 0.46079 valid_loss: 0.86282\n",
      "saving...\n",
      "epoch: 21 train_loss: 0.42257 valid_loss: 0.79917\n",
      "saving...\n",
      "epoch: 22 train_loss: 0.38374 valid_loss: 0.79703\n",
      "saving...\n",
      "epoch: 23 train_loss: 0.34873 valid_loss: 0.74712\n",
      "saving...\n",
      "epoch: 24 train_loss: 0.31759 valid_loss: 0.71697\n",
      "saving...\n",
      "epoch: 25 train_loss: 0.29062 valid_loss: 0.65624\n",
      "saving...\n",
      "epoch: 26 train_loss: 0.26212 valid_loss: 0.64750\n",
      "saving...\n",
      "epoch: 27 train_loss: 0.24133 valid_loss: 0.62355\n",
      "saving...\n",
      "epoch: 28 train_loss: 0.21724 valid_loss: 0.62543\n",
      "epoch: 29 train_loss: 0.20069 valid_loss: 0.58231\n",
      "saving...\n",
      "epoch: 30 train_loss: 0.18099 valid_loss: 0.56394\n",
      "saving...\n",
      "epoch: 31 train_loss: 0.16416 valid_loss: 0.58658\n",
      "epoch: 32 train_loss: 0.15376 valid_loss: 0.56016\n",
      "saving...\n",
      "epoch: 33 train_loss: 0.14052 valid_loss: 0.53816\n",
      "saving...\n",
      "epoch: 34 train_loss: 0.12608 valid_loss: 0.52537\n",
      "saving...\n",
      "epoch: 35 train_loss: 0.11568 valid_loss: 0.53759\n",
      "epoch: 36 train_loss: 0.10662 valid_loss: 0.51023\n",
      "saving...\n",
      "epoch: 37 train_loss: 0.09493 valid_loss: 0.50178\n",
      "saving...\n",
      "epoch: 38 train_loss: 0.08827 valid_loss: 0.52875\n",
      "epoch: 39 train_loss: 0.07924 valid_loss: 0.51352\n",
      "epoch: 40 train_loss: 0.07225 valid_loss: 0.51451\n",
      "Total accuracy: 0.94\n"
     ]
    }
   ],
   "source": [
    "with tf.Session() as ses:\n",
    "    \n",
    "    # criando pastas para os eventos do tensorboard\n",
    "    #----------------------------------------------------\n",
    "    if not os.path.exists('summaries'):\n",
    "        os.mkdir('summaries')\n",
    "    if not os.path.exists(os.path.join('summaries', 'second')):\n",
    "        os.mkdir(os.path.join('summaries', 'second'))\n",
    "    #----------------------------------------------------\n",
    "    summ_writer = tf.summary.FileWriter(os.path.join('summaries', 'second'), ses.graph)\n",
    "    \n",
    "    \n",
    "    ses.run(init)\n",
    "    for ep in range(epochs):\n",
    "        running_loss = 0.0\n",
    "        val_loss = 0.0\n",
    "        #treinamento\n",
    "        for images, labels in batch_loader(train_x, train_y, batch_size):\n",
    "            if running_loss == 0.0:\n",
    "                _, c, grad_norm = ses.run([optimizer, loss, tf_grad_norm_summary], {x:images.reshape(-1, 784), y:labels})\n",
    "                running_loss += ( c / ( (len(train_x)//batch_size) + (len(train_x)%batch_size)))\n",
    "            else:\n",
    "                _, c = ses.run([optimizer, loss], {x:images.reshape(-1, 784), y:labels})\n",
    "                running_loss += ( c / ( (len(train_x)//batch_size) + (len(train_x)%batch_size)))      \n",
    "        summ_writer.add_summary(grad_norm, ep)\n",
    "        # validação\n",
    "        for data, target in batch_loader(val_x, val_y, batch_size):\n",
    "            cost, a = ses.run([loss, accuracy], {x:data.reshape(-1, 784), y:target})\n",
    "            val_loss += ( cost / ( (len(val_x)//batch_size) + (len(val_x)%batch_size)))\n",
    "        summa = ses.run(performance_summaries, {tf_loss_ph:val_loss, tf_accuracy_ph:a})\n",
    "        \n",
    "        summ_writer.add_summary(summa, ep)\n",
    "        \n",
    "        valid_losses.append(val_loss)\n",
    "        train_losses.append(running_loss)\n",
    "        print('epoch: {} train_loss: {:.5f} valid_loss: {:.5f}'.format(ep+1, running_loss, val_loss))\n",
    "        \n",
    "        # salvando melhores parâmetros\n",
    "        if min_val_loss > val_loss:\n",
    "            saver.save(ses, save_path+'meu_modelo')\n",
    "            print('saving...')\n",
    "            min_val_loss = val_loss\n",
    "        \n",
    "    # teste\n",
    "    acc = ses.run(accuracy, {x:test_x, y:test_y})\n",
    "    print('Total accuracy: {:.2f}'.format(acc))\n",
    "\n",
    "   \n",
    "    \n",
    "    \n",
    "        \n",
    "                    "
   ]
  },
  {
   "cell_type": "code",
   "execution_count": 27,
   "metadata": {},
   "outputs": [
    {
     "data": {
      "text/plain": [
       "Text(0, 0.5, 'loss')"
      ]
     },
     "execution_count": 27,
     "metadata": {},
     "output_type": "execute_result"
    },
    {
     "data": {
      "image/png": "[encoded data removed]",
      "text/plain": [
       "<Figure size 432x288 with 1 Axes>"
      ]
     },
     "metadata": {
      "needs_background": "light"
     },
     "output_type": "display_data"
    }
   ],
   "source": [
    "plt.plot(valid_losses, 'r-' )\n",
    "plt.plot(train_losses, 'g-')\n",
    "\n",
    "plt.xlabel('epochs')\n",
    "plt.ylabel('loss')"
   ]
  },
  {
   "cell_type": "code",
   "execution_count": null,
   "metadata": {},
   "outputs": [],
   "source": []
  }
 ],
 "metadata": {
  "kernelspec": {
   "display_name": "Python 3",
   "language": "python",
   "name": "python3"
  },
  "language_info": {
   "codemirror_mode": {
    "name": "ipython",
    "version": 3
   },
   "file_extension": ".py",
   "mimetype": "text/x-python",
   "name": "python",
   "nbconvert_exporter": "python",
   "pygments_lexer": "ipython3",
   "version": "3.6.7"
  }
 },
 "nbformat": 4,
 "nbformat_minor": 2
}
